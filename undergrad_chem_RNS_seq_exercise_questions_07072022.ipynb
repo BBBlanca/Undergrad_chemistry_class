{
 "cells": [
  {
   "cell_type": "code",
   "execution_count": 1,
   "id": "acc4e9d6",
   "metadata": {},
   "outputs": [],
   "source": [
    "import pandas as pd\n",
    "import numpy as np\n",
    "import matplotlib.pyplot as plt"
   ]
  },
  {
   "cell_type": "markdown",
   "id": "b2db9b8d",
   "metadata": {},
   "source": [
    "# 1. RNA-seq Exercise: Analyzing RNA-seq data for cell lines treated with compounds"
   ]
  },
  {
   "cell_type": "markdown",
   "id": "bf30642b",
   "metadata": {},
   "source": [
    "Now, we will do an exercise that is similar to what we learned in the last tutorial about analysing RNA-seq data. Compare RNA-seq across different groups after drug treatment (GEO accession: GSE119088).  The goals of this study are to compare NGS-derived transcriptome profiling (RNA-seq) to find out the difference between EZH2 inhibitor treatment and DMSO group in each of 3 cancer cell lines, and find the relationship between transcriptomes change and drug sensivitity."
   ]
  },
  {
   "cell_type": "markdown",
   "id": "2f987132",
   "metadata": {},
   "source": [
    "Read three dataframes and each is for one cell line"
   ]
  },
  {
   "cell_type": "code",
   "execution_count": 2,
   "id": "b1f73d4d",
   "metadata": {},
   "outputs": [],
   "source": [
    "df1=pd.read_csv('./undergrad_chemistry_class_tutorial/S7721_transcriptome_change_07042022.csv')\n",
    "df2=pd.read_csv('./undergrad_chemistry_class_tutorial/U2932_transcriptome_change_07042022.csv')\n",
    "df3=pd.read_csv('./undergrad_chemistry_class_tutorial/Pfeif_transcriptome_change_07042022.csv')"
   ]
  },
  {
   "cell_type": "markdown",
   "id": "9aece96e",
   "metadata": {},
   "source": [
    "Pre-processing the data: combining replicates and getting them ready for the exercise"
   ]
  },
  {
   "cell_type": "code",
   "execution_count": 3,
   "id": "4b9cb700",
   "metadata": {},
   "outputs": [],
   "source": [
    "df1['S7721_before_treatment']=(df1.S7721_c1 + df1.S7721_c2 + df1.S7721_c3)/3\n",
    "df1['S7721_after_treatment']=(df1.S7721_E1 + df1.S7721_E2 + df1.S7721_E3)/3\n",
    "df1=df1[['ID', 'S7721_before_treatment', 'S7721_after_treatment']]\n",
    "df2['U2932_before_treatment']=(df2.U2932_c1 + df2.U2932_c2 + df2.U2932_c3)/3\n",
    "df2['U2932_after_treatment']=(df2.U2932_E1 + df2.U2932_E2 + df2.U2932_E3)/3\n",
    "df2=df2[['ID', 'U2932_before_treatment', 'U2932_after_treatment']]\n",
    "df3['pfeif_before_treatment']=(df3.pfeif_c1 + df3.pfeif_c2 + df3.pfeif_c3)/3\n",
    "df3['pfeif_after_treatment']=(df3.pfeif_E1 + df3.pfeif_E2 + df3.pfeif_E3)/3\n",
    "df3=df3[['ID', 'pfeif_before_treatment', 'pfeif_after_treatment']]"
   ]
  },
  {
   "cell_type": "markdown",
   "id": "89d5c254",
   "metadata": {},
   "source": [
    "## 1.1. Make scatter plot to have a visualization of how gene expressions are changed within each cell line after drug treatment"
   ]
  },
  {
   "cell_type": "markdown",
   "id": "2d65ed03",
   "metadata": {},
   "source": [
    "Hints: the codes for generating the visualization are pretty much provided below, except that you need to replace the underlines and fill in the actual codes. All you need to do is to specify which column is going be placed at each underlined area. \n",
    "\n",
    "For example, the first plot is to plot gene expressions for `S7721` cell line whose information is stored in `df1`. The first thing you need to do is to check columns in `df1` by doing `df1.head()`."
   ]
  },
  {
   "cell_type": "code",
   "execution_count": null,
   "id": "150bc54f",
   "metadata": {},
   "outputs": [],
   "source": [
    "df1.head()"
   ]
  },
  {
   "cell_type": "markdown",
   "id": "dbcace70",
   "metadata": {},
   "source": [
    "We want to plot gene expression before drug treatment against after treatment. So the two columns we are going to use are `df1['S7721_before_treatment']` and `df1['S7721_after_treatment']`. We will use the function `plt.scatter()` to make the plot. The first parameter we put in `plt.scatter()` is the x-axis data, which will be `df1['S7721_before_treatment']` and the second parameter we put in `plt.scatter()` is the y-axis data, which will be `df1['S7721_after_treatment']`."
   ]
  },
  {
   "cell_type": "markdown",
   "id": "3fa5bb54",
   "metadata": {},
   "source": [
    "For `U2932` cell line, its information is stored in `df2`. To check `df2`, you would want to do `df2.head()`"
   ]
  },
  {
   "cell_type": "code",
   "execution_count": null,
   "id": "99b981ff",
   "metadata": {},
   "outputs": [],
   "source": [
    "df2.head()"
   ]
  },
  {
   "cell_type": "markdown",
   "id": "946de6fd",
   "metadata": {},
   "source": [
    "Again we are going to plot gene expression data before treatment against after treatment. So the two columns we are going to use are `df2['U2932_before_treatment']` and `df2['U2932_after_treatment']`. We will use the function `plt.scatter()` to make the plot. The first parameter we put in `plt.scatter()` is the x-axis data, which will be `df2['U2932_before_treatment']` and the second parameter we put in `plt.scatter()` is the y-axis data, which will be `df2['U2932_after_treatment']`."
   ]
  },
  {
   "cell_type": "markdown",
   "id": "6a2318b7",
   "metadata": {},
   "source": [
    "For `pfeif` cell line, its informaiton is stored in `df3`. To check `df3`, you would want to do `df3.head()`."
   ]
  },
  {
   "cell_type": "code",
   "execution_count": null,
   "id": "66382842",
   "metadata": {},
   "outputs": [],
   "source": [
    "df3.head()"
   ]
  },
  {
   "cell_type": "markdown",
   "id": "7fe3a30d",
   "metadata": {},
   "source": [
    "Similarly, the two columns we are going to use are `df3['pfeif_before_treatment']` and `df3['pfeif_after_treatment']`. We will use the function `plt.scatter()` to make the plot. The first parameter we put in `plt.scatter()` is the x-axis data, which will be `df3['pfeif_before_treatment']` and the second parameter we put in `plt.scatter()` is the y-axis data, which will be `df3['pfeif_after_treatment']`."
   ]
  },
  {
   "cell_type": "markdown",
   "id": "39d43085",
   "metadata": {},
   "source": [
    "Now, it's time for you to take the hints above and fill in underlined areas with actual codes."
   ]
  },
  {
   "cell_type": "code",
   "execution_count": null,
   "id": "1f71f8be",
   "metadata": {},
   "outputs": [],
   "source": [
    "plt.rcParams['font.size'] = 20\n",
    "plt.rc('axes', labelsize=25)\n",
    "plt.rc('axes', titlesize=30)\n",
    "plt.figure(1, figsize=(30, 30))\n",
    "plt.subplot(331, xlabel='S7721 before drug treatment', ylabel='S7721 after drug treatment', title='before vs after treatment')\n",
    "plt.scatter(df1['_______'], df1['_______'], s=100)\n",
    "plt.plot(df1.S7721_before_treatment, df1.S7721_before_treatment, linestyle='-')\n",
    "plt.xticks(rotation=90)\n",
    "plt.subplot(332, xlabel='U2932 before drug treatment', ylabel='U2932 after drug treatment', title='before vs after treatment')\n",
    "plt.scatter(df2['_________'], df2['________'], s=100)\n",
    "plt.plot(df2.U2932_before_treatment, df2.U2932_before_treatment, linestyle='-')\n",
    "plt.xticks(rotation=90)\n",
    "plt.subplot(333, xlabel='Pfeif after drug treatment', ylabel='Pfeif before drug treatment', title='before vs after treatment')\n",
    "plt.scatter(df3['________'], df3['________'], s=100)\n",
    "plt.plot(df3.pfeif_before_treatment, df3.pfeif_before_treatment, linestyle='-')\n",
    "plt.xticks(rotation=90)\n",
    "plt.show()"
   ]
  },
  {
   "cell_type": "markdown",
   "id": "5243d8d6",
   "metadata": {},
   "source": [
    "## 1.2. Find differentially expressed genes within each cell line (the expression of a specific gene is changed more than 4000(take the absolute value here))"
   ]
  },
  {
   "cell_type": "markdown",
   "id": "9369f13f",
   "metadata": {},
   "source": [
    "Hint: Here, in each cell line, you would want to calculate the expression difference for each gene before and after treatment"
   ]
  },
  {
   "cell_type": "markdown",
   "id": "0bd753a9",
   "metadata": {},
   "source": [
    "For cell line `S7721`, we will create a new column in its dataframe `df1`, which is called `'deviation'`. This columns is generated after calculating the absolute value of the gene expression difference before and after drug treatment. For example, we would want to subtract `df1['S7721_before_treatment']` by `df1['S7721_after_treatment']`."
   ]
  },
  {
   "cell_type": "code",
   "execution_count": null,
   "id": "53d019df",
   "metadata": {},
   "outputs": [],
   "source": [
    "df1['deviation']=abs(df1['______']-df1['_______'])"
   ]
  },
  {
   "cell_type": "markdown",
   "id": "debb78ce",
   "metadata": {},
   "source": [
    "For cell line `U2932`, we will create a new column in its dataframe `df2`, which is also called `'deviation'`. This columns is generated after calculating the absolute value of the gene expression difference before and after drug treatment. For example, we would want to subtract `df2['U2932_before_treatment']` by `df2['U2932_after_treatment']`."
   ]
  },
  {
   "cell_type": "code",
   "execution_count": null,
   "id": "a414c6d0",
   "metadata": {},
   "outputs": [],
   "source": [
    "df2['deviation']=abs(df2['________']-df2['_______'])"
   ]
  },
  {
   "cell_type": "markdown",
   "id": "9bd33fda",
   "metadata": {},
   "source": [
    "For cell line `pfeif`, we will create a new column in its dataframe `df3`, which is also called `'deviation'`. This columns is generated after calculating the absolute value of the gene expression difference before and after drug treatment. For example, we would want to subtract `df3['pfeif_before_treatment']` by `df3['pfeif_after_treatment']`."
   ]
  },
  {
   "cell_type": "code",
   "execution_count": null,
   "id": "598d3bb1",
   "metadata": {},
   "outputs": [],
   "source": [
    "df3['deviation']=abs(df3['_______']-df3['________'])"
   ]
  },
  {
   "cell_type": "markdown",
   "id": "615f12aa",
   "metadata": {},
   "source": [
    "Now, we are going to look for gene expression difference larger than `4000`. We are going to refer to the `'deviation'` columns in each dataframe (`df1`, `df2`, `df3`). For each dataframe, we are going to filter it by selecting items in the `deviation` column that are larger than `4000`. You are going to put down a number in the blank area that can properly filter the dataframe. For example, if you want to filter `df1` and only get items in the deviation columns that are larger than `1000`, you would do `'df1[df1.deviation> 1000 ]'`. Then what will be returned are the items that pass the filtering."
   ]
  },
  {
   "cell_type": "code",
   "execution_count": null,
   "id": "9e0859f7",
   "metadata": {},
   "outputs": [],
   "source": [
    "df1[df1.deviation>    ]"
   ]
  },
  {
   "cell_type": "code",
   "execution_count": null,
   "id": "e9966727",
   "metadata": {},
   "outputs": [],
   "source": [
    "df2[df2.deviation>    ]"
   ]
  },
  {
   "cell_type": "code",
   "execution_count": null,
   "id": "8a015caa",
   "metadata": {},
   "outputs": [],
   "source": [
    "df3[df3.deviation>    ]"
   ]
  },
  {
   "cell_type": "markdown",
   "id": "f7f02bce",
   "metadata": {},
   "source": [
    "## 1.3. Make scatter plots highlighting differentially expressed genes in each cell line"
   ]
  },
  {
   "cell_type": "markdown",
   "id": "ed9ebcc8",
   "metadata": {},
   "source": [
    "For cell line `S7732`:"
   ]
  },
  {
   "cell_type": "code",
   "execution_count": null,
   "id": "a3bdc2ea",
   "metadata": {},
   "outputs": [],
   "source": [
    "#Make genes that are differentially expressed into a list\n",
    "gene_list_for_S7721=df1[df1.deviation>4000].ID.tolist()"
   ]
  },
  {
   "cell_type": "markdown",
   "id": "53049ddf",
   "metadata": {},
   "source": [
    "Replace the underscored area and fill with proper codes using the hints given out before:"
   ]
  },
  {
   "cell_type": "code",
   "execution_count": null,
   "id": "c390b2f9",
   "metadata": {},
   "outputs": [],
   "source": [
    "plt.figure(figsize=(10, 10))\n",
    "plt.scatter(df1['______'], df1['______'], s=50)\n",
    "plt.plot(df1.S7721_before_treatment, df1.S7721_before_treatment, linestyle='-')\n",
    "plt.title(\"Gene expression change for cell line S7721\")\n",
    "plt.xlabel(\"before treatment\")\n",
    "plt.ylabel(\"after treatment\")\n",
    "  \n",
    "# Loop for annotation of all points\n",
    "for i in range(len(df1)):\n",
    "    if df1.ID[i] in gene_list_for_S7721:\n",
    "        plt.annotate(df1.ID[i], (df1.S7721_before_treatment[i], df1.S7721_after_treatment[i] + 0.1), fontsize=10, color='red')"
   ]
  },
  {
   "cell_type": "markdown",
   "id": "13f8d373",
   "metadata": {},
   "source": [
    "For cell line `U2932`:"
   ]
  },
  {
   "cell_type": "code",
   "execution_count": 31,
   "id": "d3dc8d12",
   "metadata": {},
   "outputs": [],
   "source": [
    "#Make genes that are differentially expressed into a list\n",
    "gene_list_for_U2932=df2[df2.deviation>4000].ID.tolist()"
   ]
  },
  {
   "cell_type": "markdown",
   "id": "c01ea5d1",
   "metadata": {},
   "source": [
    "Replace the underscored area and fill with proper codes using the hints given out before:"
   ]
  },
  {
   "cell_type": "code",
   "execution_count": null,
   "id": "af3b6788",
   "metadata": {},
   "outputs": [],
   "source": [
    "plt.figure(figsize=(10, 10))\n",
    "plt.scatter(df2['________'], df2['________'], s=50)\n",
    "plt.plot(df2.U2932_before_treatment, df2.U2932_before_treatment, linestyle='-')\n",
    "plt.title(\"Gene expression change for cell line U2932\")\n",
    "plt.xlabel(\"before treatment\")\n",
    "plt.ylabel(\"after treatment\")\n",
    "  \n",
    "# Loop for annotation of all points\n",
    "for i in range(len(df2)):\n",
    "    if df2.ID[i] in gene_list_for_U2932:\n",
    "        plt.annotate(df2.ID[i], (df2.U2932_before_treatment[i], df2.U2932_after_treatment[i] + 0.1), fontsize=10, color='red')"
   ]
  },
  {
   "cell_type": "markdown",
   "id": "5753e041",
   "metadata": {},
   "source": [
    "For cell line `pfeif`:"
   ]
  },
  {
   "cell_type": "code",
   "execution_count": 34,
   "id": "52947913",
   "metadata": {},
   "outputs": [],
   "source": [
    "#Make genes that are differentially expressed into a list\n",
    "gene_list_for_pfeif=df3[df3.deviation>4000].ID.tolist()"
   ]
  },
  {
   "cell_type": "markdown",
   "id": "19da3f0a",
   "metadata": {},
   "source": [
    "Replace the underscored area and fill with proper codes using the hints given out before:"
   ]
  },
  {
   "cell_type": "code",
   "execution_count": null,
   "id": "c9f80938",
   "metadata": {},
   "outputs": [],
   "source": [
    "plt.figure(figsize=(10, 10))\n",
    "plt.scatter(df3['_______'], df3['________'], s=50)\n",
    "plt.plot(df3.pfeif_before_treatment, df3.pfeif_before_treatment, linestyle='-')\n",
    "plt.title(\"Gene expression change for cell line pfeif\")\n",
    "plt.xlabel(\"before treatment\")\n",
    "plt.ylabel(\"after treatment\")\n",
    "\n",
    "# Loop for annotation of all points\n",
    "for i in range(len(df3)):\n",
    "    if df3.ID[i] in gene_list_for_pfeif:\n",
    "        plt.annotate(df3.ID[i], (df3.pfeif_before_treatment[i], df3.pfeif_after_treatment[i] + 0.1), fontsize=10, color='red')"
   ]
  },
  {
   "cell_type": "markdown",
   "id": "15f092ba",
   "metadata": {},
   "source": [
    "## 1.4. Barplot only differentially expressed genes within each cell line. Two barplots for each cell line---before treatment and after treatment."
   ]
  },
  {
   "cell_type": "markdown",
   "id": "fca7b27f",
   "metadata": {},
   "source": [
    "Barplots for differentially expressed genes in cell line `S7721` before and after treatment:"
   ]
  },
  {
   "cell_type": "markdown",
   "id": "76af7dd7",
   "metadata": {},
   "source": [
    "The underlined area should be replaced with the columns that are to be plotted, which should be `'S7721_before_treatment'` and `'S7721_after_treatment'`, respectively."
   ]
  },
  {
   "cell_type": "code",
   "execution_count": null,
   "id": "7def0338",
   "metadata": {},
   "outputs": [],
   "source": [
    "plt.figure(1, figsize=(20, 10))\n",
    "plt.rcParams['font.size'] = 7\n",
    "plt.rc('axes', titlesize=15)\n",
    "plt.subplot(211, title='Gene expression in S7721 before drug treatment')\n",
    "plt.bar(df1[df1.ID.isin(gene_list_for_S7721)].ID, df1[df1.ID.isin(gene_list_for_S7721)]._______)\n",
    "plt.xticks(rotation=10)\n",
    "plt.subplot(212, title='Gene expression in S7721 after drug treatment')\n",
    "plt.bar(df1[df1.ID.isin(gene_list_for_S7721)].ID, df1[df1.ID.isin(gene_list_for_S7721)]._______)\n",
    "plt.xticks(rotation=10)\n",
    "plt.show()"
   ]
  },
  {
   "cell_type": "markdown",
   "id": "3b5a759b",
   "metadata": {},
   "source": [
    "Barplot for differentially expressed genes in cell line `U2932` before and after treatment:"
   ]
  },
  {
   "cell_type": "markdown",
   "id": "70fca310",
   "metadata": {},
   "source": [
    "The underlined area should be replaced with the columns that are to be plotted, which should be `'U2932_before_treatment'` and `'U2932_after_treatment'`, respectively."
   ]
  },
  {
   "cell_type": "code",
   "execution_count": null,
   "id": "68ba97dd",
   "metadata": {},
   "outputs": [],
   "source": [
    "plt.figure(1, figsize=(5, 10))\n",
    "plt.rcParams['font.size'] = 10\n",
    "plt.rc('axes', titlesize=15)\n",
    "plt.subplot(211, title='Gene expression in U2932 before drug treatment')\n",
    "plt.bar(df2[df2.ID.isin(gene_list_for_U2932)].ID, df2[df2.ID.isin(gene_list_for_U2932)]._______, width=0.5)\n",
    "plt.xticks(rotation=10)\n",
    "plt.subplot(212, title='Gene expression in U2932 after drug treatment')\n",
    "plt.bar(df2[df2.ID.isin(gene_list_for_U2932)].ID, df2[df2.ID.isin(gene_list_for_U2932)].________, width=0.5)\n",
    "plt.xticks(rotation=10)\n",
    "plt.show()"
   ]
  },
  {
   "cell_type": "markdown",
   "id": "0d11be8b",
   "metadata": {},
   "source": [
    "Barplot for differentially expressed genes in cell line `pfeif` before and after treatment:"
   ]
  },
  {
   "cell_type": "markdown",
   "id": "ce022605",
   "metadata": {},
   "source": [
    "The underlined area should be replaced with the columns that are to be plotted, which should be `'pfeif_before_treatment'` and `'pfeif_after_treatment'`, respectively."
   ]
  },
  {
   "cell_type": "code",
   "execution_count": null,
   "id": "19354382",
   "metadata": {},
   "outputs": [],
   "source": [
    "plt.figure(1, figsize=(5, 10))\n",
    "plt.rcParams['font.size'] = 10\n",
    "plt.rc('axes', titlesize=15)\n",
    "plt.subplot(211, title='Gene expression in pfeif before drug treatment')\n",
    "plt.bar(df3[df3.ID.isin(gene_list_for_pfeif)].ID, df3[df3.ID.isin(gene_list_for_pfeif)].________, width=0.5)\n",
    "plt.xticks(rotation=10)\n",
    "plt.subplot(212, title='Gene expression in pfeif after drug treatment')\n",
    "plt.bar(df3[df3.ID.isin(gene_list_for_pfeif)].ID, df3[df3.ID.isin(gene_list_for_pfeif)].________, width=0.5)\n",
    "plt.xticks(rotation=10)\n",
    "plt.show()"
   ]
  },
  {
   "cell_type": "markdown",
   "id": "b699ebd0",
   "metadata": {},
   "source": [
    "## 1.5. Look for gene ontology for differentially expressed genes within each cell line by searching on Uniprot website"
   ]
  },
  {
   "cell_type": "markdown",
   "id": "8ea7f3b8",
   "metadata": {},
   "source": [
    "**Acknowledgements:** This tutorial was developed by Yue Wang at the University of North Carolina at Chapel Hill."
   ]
  }
 ],
 "metadata": {
  "kernelspec": {
   "display_name": "Python 3",
   "language": "python",
   "name": "python3"
  },
  "language_info": {
   "codemirror_mode": {
    "name": "ipython",
    "version": 3
   },
   "file_extension": ".py",
   "mimetype": "text/x-python",
   "name": "python",
   "nbconvert_exporter": "python",
   "pygments_lexer": "ipython3",
   "version": "3.8.12"
  }
 },
 "nbformat": 4,
 "nbformat_minor": 5
}
